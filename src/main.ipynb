{
 "cells": [
  {
   "cell_type": "code",
   "execution_count": 4,
   "metadata": {},
   "outputs": [],
   "source": [
    "from data_loader import loadData\n",
    "index, ndate, dataX, dataY, trainX, trainY, testX, testY = loadData()"
   ]
  },
  {
   "cell_type": "code",
   "execution_count": 5,
   "metadata": {},
   "outputs": [
    {
     "name": "stdout",
     "output_type": "stream",
     "text": [
      "dataX:  torch.Size([732, 20, 33])\n",
      "dataY:  torch.Size([732, 1, 33])\n",
      "trainX:  torch.Size([659, 20, 33])\n",
      "trainY:  torch.Size([659, 1, 33])\n",
      "testX:  torch.Size([73, 20, 33])\n",
      "testY:  torch.Size([73, 1, 33])\n"
     ]
    }
   ],
   "source": [
    "print(\"dataX: \", dataX.size())\n",
    "print(\"dataY: \", dataY.size())\n",
    "print(\"trainX: \", trainX.size())\n",
    "print(\"trainY: \", trainY.size())\n",
    "print(\"testX: \", testX.size())\n",
    "print(\"testY: \", testY.size())"
   ]
  },
  {
   "cell_type": "code",
   "execution_count": 3,
   "metadata": {},
   "outputs": [],
   "source": [
    "import torch\n",
    "from torch import nn\n",
    "# from nni.retiarii.nn.pytorch import nn\n",
    "import torch.nn.functional as F\n"
   ]
  },
  {
   "cell_type": "code",
   "execution_count": 7,
   "metadata": {},
   "outputs": [],
   "source": [
    "class RNN(nn.Module):\n",
    "    def __init__(self, output_size, input_size, hidden_size, num_layers, sequence_size, batch_size):\n",
    "        super(RNN, self).__init__()\n",
    "        self.output_size = output_size\n",
    "        self.input_size = input_size\n",
    "        self.hidden_size = hidden_size\n",
    "        self.num_layers = num_layers\n",
    "        self.sequence_size = sequence_size\n",
    "        self.batch_size = batch_size\n",
    "        \n",
    "        # self.rnn = nn.LSTM(input_size,hidden_size,num_layers, batch_first=True)\n",
    "        self.rnn = nn.GRU(input_size,hidden_size,num_layers, batch_first=True)\n",
    "        self.mlp = nn.Sequential(\n",
    "            nn.Linear(hidden_size, hidden_size),\n",
    "            nn.Tanh(),\n",
    "            nn.Linear(hidden_size, output_size)\n",
    "        )\n",
    "    def forward(self, inputX):\n",
    "        rnn_output, _ = self.rnn(inputX)\n",
    "        rnn_output = rnn_output.contiguous().view(-1, self.hidden_size)\n",
    "        output = self.mlp(rnn_output)\n",
    "        output = output.contiguous().view(self.batch_size, self.sequence_size, -1)\n",
    "        return output"
   ]
  },
  {
   "cell_type": "code",
   "execution_count": null,
   "metadata": {},
   "outputs": [],
   "source": [
    "sequence_size = 5\n",
    "batch_size = 139\n",
    "input_size = 1\n",
    "hidden_size = 2\n",
    "num_layers = 3\n",
    "output_size = 1\n",
    "model = RNN(output_size, input_size, hidden_size, num_layers, sequence_size, batch_size)\n",
    "inputX = torch.randn(batch_size,sequence_size,input_size)\n",
    "out = model(inputX)"
   ]
  }
 ],
 "metadata": {
  "kernelspec": {
   "display_name": "Python 3.8.10 ('base')",
   "language": "python",
   "name": "python3"
  },
  "language_info": {
   "codemirror_mode": {
    "name": "ipython",
    "version": 3
   },
   "file_extension": ".py",
   "mimetype": "text/x-python",
   "name": "python",
   "nbconvert_exporter": "python",
   "pygments_lexer": "ipython3",
   "version": "3.8.10"
  },
  "orig_nbformat": 4,
  "vscode": {
   "interpreter": {
    "hash": "2f394aca7ca06fed1e6064aef884364492d7cdda3614a461e02e6407fc40ba69"
   }
  }
 },
 "nbformat": 4,
 "nbformat_minor": 2
}
