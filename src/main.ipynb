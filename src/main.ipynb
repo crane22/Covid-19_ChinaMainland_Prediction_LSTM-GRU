{
 "cells": [
  {
   "cell_type": "code",
   "execution_count": 11,
   "metadata": {},
   "outputs": [],
   "source": [
    "import os\n",
    "import csv\n",
    "import numpy as np\n",
    "from config import paths\n",
    "from config import provinces\n",
    "def csvFile2List(csvFilePath):\n",
    "    csvFile = open(csvFilePath, 'r')\n",
    "    csvReader = csv.reader(csvFile)\n",
    "    header = next(csvReader)\n",
    "    date = []\n",
    "    data = []\n",
    "    for row in csvReader:\n",
    "        if row == []:\n",
    "            continue\n",
    "        if len(row) == 2:\n",
    "            row[0] = row[0][0:4] + '-' + row[0][4:6] + '-' + row[0][6:8]\n",
    "            date.append(row[0])\n",
    "            row[1] = int(row[1])\n",
    "            data.append([row[1]])\n",
    "        if len(row) == 4:\n",
    "            row[0] = row[0][0:4] + '-' + row[0][4:6] + '-' + row[0][6:8]\n",
    "            date.append(row[0])\n",
    "            row[1] = int(row[1])\n",
    "            row[2] = int(row[2])\n",
    "            # row[3] = int(row[3])\n",
    "            # data.append([row[1], row[2], row[3]])\n",
    "            data.append([row[1], row[2]])\n",
    "    data = np.array(data)\n",
    "    return date, data"
   ]
  },
  {
   "cell_type": "code",
   "execution_count": 16,
   "metadata": {},
   "outputs": [],
   "source": [
    "csvFilePath = os.path.join(paths['Data_Raw'], \"全国\" + \".csv\")\n",
    "date, data = csvFile2List(csvFilePath)\n",
    "label = [\"mainland-confirmed\", \"mainland-recovered\"]\n",
    "for p in provinces:\n",
    "    pName = provinces[p]\n",
    "    label.append(\"province-\" + pName)\n",
    "    csvFilePath = os.path.join(paths['Data_Raw'], p + \".csv\")\n",
    "    _, pData = csvFile2List(csvFilePath)\n",
    "    data = np.concatenate((data, pData), axis=1)"
   ]
  },
  {
   "cell_type": "code",
   "execution_count": 19,
   "metadata": {},
   "outputs": [
    {
     "name": "stdout",
     "output_type": "stream",
     "text": [
      "33\n"
     ]
    }
   ],
   "source": [
    "print(len(data[0]))"
   ]
  },
  {
   "cell_type": "code",
   "execution_count": 2,
   "metadata": {},
   "outputs": [],
   "source": [
    "import numpy as np\n",
    "from config import param, paths, hyper"
   ]
  },
  {
   "cell_type": "code",
   "execution_count": 4,
   "metadata": {},
   "outputs": [
    {
     "name": "stdout",
     "output_type": "stream",
     "text": [
      "33\n"
     ]
    }
   ],
   "source": [
    "mainlandDict = np.load(paths['Data_Mainland'], allow_pickle=True).item()\n",
    "provinceDict = np.load(paths['Data_Province'], allow_pickle=True).item()\n",
    "input_size = len(mainlandDict) + len(provinceDict)\n",
    "print(input_size)"
   ]
  },
  {
   "cell_type": "code",
   "execution_count": null,
   "metadata": {},
   "outputs": [],
   "source": [
    "# data_loader.py\n",
    "def loadData():\n",
    "    datasetLabel = []\n",
    "    dataset = []\n",
    "    mainlandDict = np.load(paths['Data_Mainland'], allow_pickle=True).item()\n",
    "    for label in mainlandDict:\n",
    "        datasetLabel.append(label)\n",
    "        dataset\n",
    "    provinceDict = np.load(paths['Data_Province'], allow_pickle=True).item()\n",
    "\n",
    "    boundNum = round(len(dataset) * (1 - hyper['TestSetProportion']))\n",
    "    trainSet = dataset[:boundNum]\n",
    "    testSet = dataset[boundNum:]\n",
    "    trainLabel, trainData = [], []\n",
    "    for row in trainSet:\n",
    "        trainLabel.append(row[0])\n",
    "        trainData.append(row[1])\n",
    "    testLabel, testData = [], []\n",
    "    for row in testSet:\n",
    "        testLabel.append(row[0])\n",
    "        testData.append(row[1])\n",
    "    return trainLabel, trainData, testLabel, testData"
   ]
  }
 ],
 "metadata": {
  "kernelspec": {
   "display_name": "Python 3.8.10 ('base')",
   "language": "python",
   "name": "python3"
  },
  "language_info": {
   "codemirror_mode": {
    "name": "ipython",
    "version": 3
   },
   "file_extension": ".py",
   "mimetype": "text/x-python",
   "name": "python",
   "nbconvert_exporter": "python",
   "pygments_lexer": "ipython3",
   "version": "3.8.10"
  },
  "orig_nbformat": 4,
  "vscode": {
   "interpreter": {
    "hash": "2f394aca7ca06fed1e6064aef884364492d7cdda3614a461e02e6407fc40ba69"
   }
  }
 },
 "nbformat": 4,
 "nbformat_minor": 2
}
